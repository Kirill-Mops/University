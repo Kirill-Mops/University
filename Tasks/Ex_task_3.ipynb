{
  "cells": [
    {
      "cell_type": "markdown",
      "metadata": {
        "id": "view-in-github",
        "colab_type": "text"
      },
      "source": [
        "<a href=\"https://colab.research.google.com/github/Kirill-Mops/University/blob/main/Tasks/Ex_task_3.ipynb\" target=\"_parent\"><img src=\"https://colab.research.google.com/assets/colab-badge.svg\" alt=\"Open In Colab\"/></a>"
      ]
    },
    {
      "cell_type": "markdown",
      "id": "bb332bf9",
      "metadata": {
        "id": "bb332bf9"
      },
      "source": [
        "# **Дополнительное задание №3. Обработка исключений и работа с текстовыми файлами**"
      ]
    },
    {
      "cell_type": "markdown",
      "id": "aa6808db",
      "metadata": {
        "id": "aa6808db"
      },
      "source": [
        "**БАЗА:**\n",
        "\n",
        "- **Обработка исключений** позволяет перехватывать и обрабатывать ошибки, возникающие при выполнении программы, предотвращая её аварийное завершение.\n",
        "- **Работа с файлами** - важный навык для чтения, записи и обработки текстовой информации в Python.\n",
        "\n",
        "---"
      ]
    },
    {
      "cell_type": "markdown",
      "id": "2478deca",
      "metadata": {
        "id": "2478deca"
      },
      "source": [
        "## **I. Обработка исключений**"
      ]
    },
    {
      "cell_type": "markdown",
      "id": "0ab0b851",
      "metadata": {
        "id": "0ab0b851"
      },
      "source": [
        "### **Пункт №1. Обработка некорректного индекса (IndexError)**"
      ]
    },
    {
      "cell_type": "markdown",
      "id": "46e69e1f",
      "metadata": {
        "id": "46e69e1f"
      },
      "source": [
        "Создайте список из нескольких элементов (например, [10, 20, 30]). Попросите пользователя ввести индекс элемента, который нужно вывести. Если пользователь введёт индекс, выходящий за границы списка, перехватите IndexError и сообщите об этом.\n",
        "\n",
        "**ОБЯЗАТЕЛЬНО:**\n",
        "- Создайте список из минимум 5 элементов\n",
        "- Покажите содержимое списка перед работой\n",
        "- Протестируйте минимум 4 случая (корректный индекс, отрицательный, слишком большой, нечисловое значение)"
      ]
    },
    {
      "cell_type": "code",
      "execution_count": 5,
      "id": "724c5954",
      "metadata": {
        "id": "724c5954",
        "colab": {
          "base_uri": "https://localhost:8080/"
        },
        "outputId": "8bdf136b-dca1-49c5-c01a-43c03f5c7c5f"
      },
      "outputs": [
        {
          "output_type": "stream",
          "name": "stdout",
          "text": [
            "[10, 20, 30, 40, 50]\n",
            "Введите индекс элемента: 2\n",
            "Корректных индекс\n",
            "Введите индекс элемента: -2\n",
            "Индекс отрицательный\n",
            "Введите индекс элемента: 10\n",
            "Слишком большой индекс\n",
            "Введите индекс элемента: abc\n",
            "Нечисловое значение\n"
          ]
        }
      ],
      "source": [
        "d = [10, 20, 30, 40, 50]\n",
        "print(d)\n",
        "for _ in range(4):\n",
        "  try:\n",
        "    index = int(input('Введите индекс элемента: '))\n",
        "    d[index]\n",
        "  except IndexError:\n",
        "    print('Слишком большой индекс')\n",
        "  except ValueError:\n",
        "    print('Нечисловое значение')\n",
        "  else:\n",
        "    if index < 0:\n",
        "      print('Индекс отрицательный')\n",
        "    else:\n",
        "      print('Корректных индекс')\n",
        "\n"
      ]
    },
    {
      "cell_type": "markdown",
      "id": "7ac84eec",
      "metadata": {
        "id": "7ac84eec"
      },
      "source": [
        "---"
      ]
    },
    {
      "cell_type": "markdown",
      "id": "f8bfb6e1",
      "metadata": {
        "id": "f8bfb6e1"
      },
      "source": [
        "### **Пункт №2. Обработка исключений в цикле**"
      ]
    },
    {
      "cell_type": "markdown",
      "id": "63c3b706",
      "metadata": {
        "id": "63c3b706"
      },
      "source": [
        "Напишите программу, которая запрашивает у пользователя числа и добавляет их в список.\n",
        "- Если пользователь вводит некорректные данные, программа должна выводить сообщение об ошибке и продолжать работу.\n",
        "- Для выхода из программы пользователь должен ввести \"стоп\".\n",
        "\n",
        "**ОБЯЗАТЕЛЬНО:**\n",
        "- Покажите процесс ввода минимум 7 значений (включая ошибочные)\n",
        "- Выведите финальный список и статистику (сколько чисел введено успешно, сколько ошибок)"
      ]
    },
    {
      "cell_type": "markdown",
      "source": [
        "\n",
        "\n",
        "```\n",
        "# Пример:\n",
        "# Введите число: 10\n",
        "# Введите число: текст (Ошибка: это не число)\n",
        "# Введите число: стоп\n",
        "# Итоговый список: [10]\n",
        "```\n",
        "\n"
      ],
      "metadata": {
        "id": "aiWaEPOuoHDS"
      },
      "id": "aiWaEPOuoHDS"
    },
    {
      "cell_type": "code",
      "execution_count": 12,
      "id": "31448e09",
      "metadata": {
        "id": "31448e09",
        "colab": {
          "base_uri": "https://localhost:8080/"
        },
        "outputId": "f6b87b4c-75f7-4530-cb9d-83087874eeb7"
      },
      "outputs": [
        {
          "output_type": "stream",
          "name": "stdout",
          "text": [
            "Введите число: 1\n",
            "Введите число: 2\n",
            "Введите число: 3\n",
            "Введите число: текст\n",
            "Это не число\n",
            "Введите число: {1, 2, 3}\n",
            "Это не число\n",
            "Введите число: (1, 2, 3)\n",
            "Это не число\n",
            "Введите число: abrakadabra\n",
            "Это не число\n",
            "Введите число: 4\n",
            "Введите число: 5\n",
            "Введите число: 6\n",
            "Введите число: 7\n",
            "Введите число: стоп\n",
            "Итоговый список: [1, 2, 3, 4, 5, 6, 7]\n",
            "Статистика:\n",
            "Чисел введено успешно:7\n",
            "Чисел введно с ошибкой:4\n"
          ]
        }
      ],
      "source": [
        "d = list()\n",
        "c, e = 0, 0\n",
        "while True:\n",
        "  s = input('Введите число: ')\n",
        "  try:\n",
        "    n = int(s)\n",
        "    d.append(n)\n",
        "  except ValueError:\n",
        "    if s.lower() == 'стоп':\n",
        "      break\n",
        "    else:\n",
        "      e += 1\n",
        "      print('Это не число')\n",
        "  else:\n",
        "    c += 1\n",
        "print(f'Итоговый список: {d}')\n",
        "print(f'Статистика:\\nЧисел введено успешно:{c}\\nЧисел введно с ошибкой:{e}')\n"
      ]
    },
    {
      "cell_type": "markdown",
      "metadata": {
        "id": "Yv-FNYTEp0vV"
      },
      "source": [
        "---"
      ],
      "id": "Yv-FNYTEp0vV"
    },
    {
      "cell_type": "markdown",
      "id": "5971f85d",
      "metadata": {
        "id": "5971f85d"
      },
      "source": [
        "### **Пункт №3**"
      ]
    },
    {
      "cell_type": "markdown",
      "id": "b1457074",
      "metadata": {
        "id": "b1457074"
      },
      "source": [
        "Создайте функцию `get_list_element(lst, index)`, которая безопасно извлекает элемент списка по индексу с использованием блоков `try`, `except`, `else` и `finally`.\n",
        "\n",
        "Функция должна:\n",
        "- Обрабатывать выход за пределы списка\n",
        "- Обрабатывать некорректный тип индекса\n",
        "- Выводить сообщение о попытке доступа в блоке `finally`\n",
        "\n",
        "**ОБЯЗАТЕЛЬНО:**\n",
        "- Выведите результаты для минимум 4 различных случаев (успешный доступ, выход за границы, отрицательный индекс, нечисловой индекс)\n",
        "- Покажите, что блок `finally` выполняется всегда\n",
        "\n",
        "```python\n",
        "# Пример использования:\n",
        "my_list = [1, 2, 3, 4, 5]\n",
        "get_list_element(my_list, 2)   # Вывод: \"Элемент: 3\", \"Попытка доступа завершена\"\n",
        "get_list_element(my_list, 10)  # Вывод: \"Индекс вне диапазона\", \"Попытка доступа завершена\"\n",
        "```"
      ]
    },
    {
      "cell_type": "code",
      "execution_count": 45,
      "id": "1c067cf3",
      "metadata": {
        "id": "1c067cf3",
        "colab": {
          "base_uri": "https://localhost:8080/"
        },
        "outputId": "04891dee-0fff-46ba-ffa3-7e6cfef18415"
      },
      "outputs": [
        {
          "output_type": "stream",
          "name": "stdout",
          "text": [
            "Элемент: 4\n",
            "Попытка доступа завершена\n",
            "Индекс вне диапозона\n",
            "Попытка доступа завершена\n",
            "Отрицательный индекс\n",
            "Попытка доступа завершена\n",
            "Индекс задан не числом\n",
            "Попытка доступа завершена\n"
          ]
        }
      ],
      "source": [
        "def get_list_element(my_list, i):\n",
        "  try:\n",
        "    my_list[i]\n",
        "  except IndexError:\n",
        "      print('Индекс вне диапозона')\n",
        "  except TypeError:\n",
        "    print('Индекс задан не числом')\n",
        "  else:\n",
        "    if i < 0:\n",
        "      print('Отрицательный индекс')\n",
        "    else:\n",
        "      print(f'Элемент: {my_list[i]}')\n",
        "  finally:\n",
        "    print('Попытка доступа завершена')\n",
        "my_list = [1, 2, 3, 4, 5]\n",
        "get_list_element(my_list, 3)\n",
        "get_list_element(my_list, 3*10)\n",
        "get_list_element(my_list, -3)\n",
        "get_list_element(my_list, 'c')"
      ]
    },
    {
      "cell_type": "markdown",
      "id": "b5bb39c7",
      "metadata": {
        "id": "b5bb39c7"
      },
      "source": [
        "---"
      ]
    },
    {
      "cell_type": "markdown",
      "id": "b0972d59",
      "metadata": {
        "id": "b0972d59"
      },
      "source": [
        "## **II. Работа с текстовыми файлами**"
      ]
    },
    {
      "cell_type": "markdown",
      "id": "35729435",
      "metadata": {
        "id": "35729435"
      },
      "source": [
        "### **Пункт №1. Запись в файл**"
      ]
    },
    {
      "cell_type": "markdown",
      "id": "3121365f",
      "metadata": {
        "id": "3121365f"
      },
      "source": [
        "Напишите программу, которая запрашивает у пользователя строку и записывает её в файл output.txt в режиме дозаписи.\n",
        "\n",
        "**ОБЯЗАТЕЛЬНО:**\n",
        "- Запросите у пользователя минимум 3 строки\n",
        "- Покажите содержимое файла после записи"
      ]
    },
    {
      "cell_type": "code",
      "execution_count": 56,
      "id": "cbce6c5f",
      "metadata": {
        "id": "cbce6c5f",
        "colab": {
          "base_uri": "https://localhost:8080/"
        },
        "outputId": "5f190ca3-5596-432e-cd8c-ec10bf3ce527"
      },
      "outputs": [
        {
          "output_type": "stream",
          "name": "stdout",
          "text": [
            "Введите строку: 123\n",
            "Введите ещё раз строку: абв\n",
            "И ещё строку: abc\n",
            "123\n",
            "абв\n",
            "abc\n",
            "\n"
          ]
        }
      ],
      "source": [
        "s1 = input('Введите строку: ')\n",
        "s2 = input('Введите ещё раз строку: ')\n",
        "s3 = input('И ещё строку: ')\n",
        "\n",
        "new_text = open(file=\"output.txt\", mode='w', encoding='utf8')\n",
        "new_text.writelines([f'{i}\\n' for i in [s1, s2, s3]])\n",
        "new_text.close()\n",
        "\n",
        "text = open(file=\"output.txt\", mode='r', encoding=\"UTF-8\")\n",
        "content = text.read()\n",
        "print(content)\n",
        "text.close()"
      ]
    },
    {
      "cell_type": "markdown",
      "id": "361b3d2b",
      "metadata": {
        "id": "361b3d2b"
      },
      "source": [
        "---"
      ]
    },
    {
      "cell_type": "markdown",
      "id": "cce864b4",
      "metadata": {
        "id": "cce864b4"
      },
      "source": [
        "### **Пункт №2. Чтение из файла**"
      ]
    },
    {
      "cell_type": "markdown",
      "id": "4fc83b82",
      "metadata": {
        "id": "4fc83b82"
      },
      "source": [
        "Напишите программу, которая открывает файл output.txt и выводит его содержимое на экран.\n",
        "\n",
        "**ОБЯЗАТЕЛЬНО:**\n",
        "- Создайте файл с минимум 5 строками текста\n",
        "- Покажите содержимое файла целиком\n",
        "- Обработайте случай отсутствующего файла"
      ]
    },
    {
      "cell_type": "code",
      "execution_count": 57,
      "id": "df27a986",
      "metadata": {
        "id": "df27a986",
        "colab": {
          "base_uri": "https://localhost:8080/"
        },
        "outputId": "c7d4fb67-eacd-4bf2-b0df-3f3d35b6de44"
      },
      "outputs": [
        {
          "output_type": "stream",
          "name": "stdout",
          "text": [
            "123\n",
            "abc\n",
            "абв\n",
            "где\n",
            "гдр\n",
            "\n"
          ]
        }
      ],
      "source": [
        "d = ['123', 'abc', 'абв', 'где', 'гдр']\n",
        "\n",
        "new_text = open(file=\"output.txt\", mode='w', encoding='utf8')\n",
        "new_text.writelines([f'{i}\\n' for i in d])\n",
        "new_text.close()\n",
        "\n",
        "try:\n",
        "    with open('output.txt', 'r', encoding='utf-8') as file:\n",
        "        content = file.read()\n",
        "        print(content)\n",
        "        file.close()\n",
        "except FileNotFoundError:\n",
        "    print(\"Файл не найден.\")"
      ]
    },
    {
      "cell_type": "markdown",
      "id": "2be296a2",
      "metadata": {
        "id": "2be296a2"
      },
      "source": [
        "---"
      ]
    },
    {
      "cell_type": "markdown",
      "id": "045696ba",
      "metadata": {
        "id": "045696ba"
      },
      "source": [
        "### **Пункт №3. Подсчет строк в файле**"
      ]
    },
    {
      "cell_type": "markdown",
      "id": "570ac3e9",
      "metadata": {
        "id": "570ac3e9"
      },
      "source": [
        "Напишите программу, которая открывает файл output.txt и подсчитывает количество строк в нём.\n",
        "\n",
        "**ОБЯЗАТЕЛЬНО:**\n",
        "- Создайте тестовый файл с известным количеством строк (минимум 10)\n",
        "- Покажите первые 3 строки файла\n",
        "- Выведите общее количество строк\n",
        "- Выведите количество непустых строк"
      ]
    },
    {
      "cell_type": "code",
      "execution_count": 68,
      "id": "84aa205a",
      "metadata": {
        "id": "84aa205a",
        "colab": {
          "base_uri": "https://localhost:8080/"
        },
        "outputId": "1c37f4f8-d444-480c-d535-88879a29e3ab"
      },
      "outputs": [
        {
          "output_type": "stream",
          "name": "stdout",
          "text": [
            "['0\\n', '1\\n', '2\\n']\n",
            "Общее количество строк: 11\n",
            "Количество непустых строк: 12\n"
          ]
        }
      ],
      "source": [
        "d = [f'{i}\\n' for i in list(range(10))] + ['\\n']\n",
        "\n",
        "new_text = open(file=\"output.txt\", mode='w', encoding='utf8')\n",
        "new_text.writelines(d)\n",
        "new_text.close()\n",
        "\n",
        "text = open(file=\"output.txt\", mode='r', encoding=\"UTF-8\")\n",
        "print(text.readlines()[:3])\n",
        "text.seek(0)\n",
        "c = len(text.readlines())\n",
        "print(f\"Общее количество строк: {c}\")\n",
        "text.seek(0)\n",
        "k = len(text.read().split('\\n'))\n",
        "print(f\"Количество непустых строк: {k}\")\n",
        "text.close()"
      ]
    },
    {
      "cell_type": "markdown",
      "id": "94c6dcb0",
      "metadata": {
        "id": "94c6dcb0"
      },
      "source": [
        "---"
      ]
    },
    {
      "cell_type": "markdown",
      "id": "56f2a74e",
      "metadata": {
        "id": "56f2a74e"
      },
      "source": [
        "### **Пункт №4. Копирование содержимого файла**"
      ]
    },
    {
      "cell_type": "markdown",
      "id": "ed736046",
      "metadata": {
        "id": "ed736046"
      },
      "source": [
        "Напишите программу, которая копирует содержимое файла input.txt в файл output.txt.\n",
        "\n",
        "**ОБЯЗАТЕЛЬНО:**\n",
        "- Создайте исходный файл с тестовым содержимым (минимум 5 строк)\n",
        "- Покажите содержимое исходного файла\n",
        "- Выполните копирование\n",
        "- Покажите содержимое скопированного файла\n",
        "- Обработайте случай отсутствия исходного файла"
      ]
    },
    {
      "cell_type": "code",
      "execution_count": 3,
      "id": "31bd8a06",
      "metadata": {
        "id": "31bd8a06",
        "colab": {
          "base_uri": "https://localhost:8080/"
        },
        "outputId": "485e9417-7b34-4f8d-e5a5-637446ce1240"
      },
      "outputs": [
        {
          "output_type": "stream",
          "name": "stdout",
          "text": [
            "Содержимое исходного файла: \n",
            "0\n",
            "1\n",
            "2\n",
            "3\n",
            "4\n",
            "5\n",
            "6\n",
            "7\n",
            "8\n",
            "9\n",
            "\n",
            "\n",
            "Содержимое скопированного файла: \n",
            "0\n",
            "1\n",
            "2\n",
            "3\n",
            "4\n",
            "5\n",
            "6\n",
            "7\n",
            "8\n",
            "9\n",
            "\n",
            "\n"
          ]
        }
      ],
      "source": [
        "d = [f'{i}\\n' for i in list(range(10))] + ['\\n']\n",
        "\n",
        "new_text = open(file=\"output.txt\", mode='w', encoding='utf8')\n",
        "new_text.writelines(d)\n",
        "new_text.close()\n",
        "\n",
        "try:\n",
        "    with open(file=\"output.txt\", mode='r', encoding=\"UTF-8\") as text:\n",
        "        content = text.read()\n",
        "        print(f'Содержимое исходного файла: \\n{content}')\n",
        "        text.close()\n",
        "except FileNotFoundError:\n",
        "    print(\"Файл не найден.\")\n",
        "\n",
        "new_text2 = open(file=\"input.txt\", mode='w', encoding='utf8')\n",
        "new_text2.writelines(content)\n",
        "new_text2.close()\n",
        "\n",
        "text2 = open(file=\"output.txt\", mode='r', encoding=\"UTF-8\")\n",
        "print(f'Содержимое скопированного файла: \\n{text2.read()}')\n",
        "text2.close()"
      ]
    },
    {
      "cell_type": "markdown",
      "id": "2f7c8ee5",
      "metadata": {
        "id": "2f7c8ee5"
      },
      "source": [
        "---"
      ]
    },
    {
      "cell_type": "markdown",
      "id": "70ee398b",
      "metadata": {
        "id": "70ee398b"
      },
      "source": [
        "### **Пункт №5. Поиск слова в файле**"
      ]
    },
    {
      "cell_type": "markdown",
      "id": "c67f8987",
      "metadata": {
        "id": "c67f8987"
      },
      "source": [
        "Напишите программу, которая открывает файл output.txt и проверяет, содержится ли в нём слово, введённое пользователем.\n",
        "\n",
        "**ОБЯЗАТЕЛЬНО:**\n",
        "- Создайте файл с минимум 10 строками текста\n",
        "- Покажите содержимое файла\n",
        "- Протестируйте поиск минимум 5 различных слов\n",
        "- Выведите номера строк, где найдено слово\n",
        "- Покажите количество вхождений слова"
      ]
    },
    {
      "cell_type": "code",
      "execution_count": 20,
      "id": "d961bbf3",
      "metadata": {
        "id": "d961bbf3",
        "colab": {
          "base_uri": "https://localhost:8080/"
        },
        "outputId": "e2d3cebf-af20-495c-eed1-0d9865921548"
      },
      "outputs": [
        {
          "output_type": "stream",
          "name": "stdout",
          "text": [
            "Содержимое исходного файла: \n",
            "Мопс Курт\n",
            "Банан эфемизм\n",
            "Агуша\n",
            "Человек паук\n",
            "Ку\n",
            "Ниф Наф Нуф\n",
            "Крутой Воспитанник\n",
            "Супер Крутой\n",
            "Великий человек\n",
            "Простофиля\n",
            "Крутой Богомол\n",
            "\n",
            "Введите словов: нуф\n",
            "Номера строк, где найдено слово: {6}\n",
            "Количество вхождений: 1\n",
            "Введите словов: великий\n",
            "Номера строк, где найдено слово: {9}\n",
            "Количество вхождений: 1\n",
            "Введите словов: крутой\n",
            "Номера строк, где найдено слово: {8, 11, 7}\n",
            "Количество вхождений: 3\n",
            "Введите словов: человек\n",
            "Номера строк, где найдено слово: {9, 4}\n",
            "Количество вхождений: 2\n",
            "Введите словов: ку\n",
            "Номера строк, где найдено слово: {5}\n",
            "Количество вхождений: 1\n"
          ]
        }
      ],
      "source": [
        "d = ['Мопс Курт', 'Банан эфемизм', 'Агуша', 'Человек паук', 'Ку', 'Ниф Наф Нуф', 'Крутой Воспитанник', 'Супер Крутой', 'Великий человек', 'Простофиля', 'Крутой Богомол']\n",
        "d = [f'{x}\\n' for x in d]\n",
        "\n",
        "new_text = open(file=\"output.txt\", mode='w', encoding='utf8')\n",
        "new_text.writelines(d)\n",
        "new_text.close()\n",
        "\n",
        "text = open(file=\"output.txt\", mode='r', encoding=\"UTF-8\")\n",
        "content = [i[:-1] for i in text.readlines()]\n",
        "text.seek(0)\n",
        "print(f'Содержимое исходного файла: \\n{text.read()}')\n",
        "content = [i.lower() for i in content]\n",
        "text.close()\n",
        "\n",
        "for _ in range(5):\n",
        "  data = []\n",
        "  s = input('Введите словов: ').lower()\n",
        "  for i in range(len(content)):\n",
        "    if s in content[i].split(' '):\n",
        "      data.append(i+1)\n",
        "  if data:\n",
        "    print(f'Номера строк, где найдено слово: {set(data)}\\nКоличество вхождений: {len(data)}')\n",
        "  else:\n",
        "    print('Такого слова нет')\n"
      ]
    },
    {
      "cell_type": "markdown",
      "id": "8d69c77a",
      "metadata": {
        "id": "8d69c77a"
      },
      "source": [
        "---"
      ]
    },
    {
      "cell_type": "markdown",
      "id": "0079e067",
      "metadata": {
        "id": "0079e067"
      },
      "source": [
        "### **Пункт №6. Чтение файла с обработкой FileNotFoundError**"
      ]
    },
    {
      "cell_type": "markdown",
      "id": "c3d27312",
      "metadata": {
        "id": "c3d27312"
      },
      "source": [
        "Напишите программу, которая запрашивает у пользователя имя файла и пытается открыть его. Если файла не существует, перехватите FileNotFoundError и выведите сообщение «Файл не найден!».\n",
        "\n",
        "**ОБЯЗАТЕЛЬНО:**\n",
        "- Протестируйте с существующим файлом\n",
        "- Протестируйте с несуществующим файлом\n",
        "- Покажите содержимое существующего файла"
      ]
    },
    {
      "cell_type": "code",
      "execution_count": 23,
      "id": "0c262bd2",
      "metadata": {
        "id": "0c262bd2",
        "colab": {
          "base_uri": "https://localhost:8080/"
        },
        "outputId": "5b4a016b-0beb-4bd0-b738-6066ed94c89d"
      },
      "outputs": [
        {
          "output_type": "stream",
          "name": "stdout",
          "text": [
            "Введите имя файла: output.txt\n",
            "Содержимое существующего файла: \n",
            "Мопс Курт\n",
            "Банан эфемизм\n",
            "Агуша\n",
            "Человек паук\n",
            "Ку\n",
            "Ниф Наф Нуф\n",
            "Крутой Воспитанник\n",
            "Супер Крутой\n",
            "Великий человек\n",
            "Простофиля\n",
            "Крутой Богомол\n",
            "\n",
            "Введите имя файла: jlsdfsdofjisdof.exe\n",
            "Файл не найден.\n"
          ]
        }
      ],
      "source": [
        "s = input('Введите имя файла: ')\n",
        "try:\n",
        "    with open(f'{s}', 'r', encoding='utf-8') as file:\n",
        "        content = file.read()\n",
        "except FileNotFoundError:\n",
        "    print(\"Файл не найден.\")\n",
        "\n",
        "print(f'Содержимое существующего файла: \\n{content}')\n",
        "\n",
        "s2 = input('Введите имя файла: ')\n",
        "try:\n",
        "    with open(f'{s2}', 'r', encoding='utf-8') as file2:\n",
        "        content2 = file2.read()\n",
        "except FileNotFoundError:\n",
        "    print(\"Файл не найден.\")\n"
      ]
    },
    {
      "cell_type": "markdown",
      "id": "c3258b46",
      "metadata": {
        "id": "c3258b46"
      },
      "source": [
        "---"
      ]
    },
    {
      "cell_type": "markdown",
      "id": "02e0767b",
      "metadata": {
        "id": "02e0767b"
      },
      "source": [
        "### **Пункт №7. Подсчет статистики файла**"
      ]
    },
    {
      "cell_type": "markdown",
      "id": "1c33b711",
      "metadata": {
        "id": "1c33b711"
      },
      "source": [
        "Напишите функцию `file_statistics(filename)`, которая читает текстовый файл и возвращает словарь со статистикой:\n",
        "- Количество строк\n",
        "- Количество слов\n",
        "- Количество символов (с пробелами и без)\n",
        "\n",
        "**ОБЯЗАТЕЛЬНО:**\n",
        "- Создайте тестовый файл с минимум 5 строками текста\n",
        "- Выведите содержимое файла ДО обработки\n",
        "- Выведите полученную статистику\n",
        "- Обработайте случай несуществующего файла\n",
        "\n",
        "```python\n",
        "# Создание тестового файла\n",
        "test_content = \"\"\"Первая строка текста\n",
        "Вторая строка с большим количеством слов\n",
        "Третья строка\n",
        "Четвертая строка для теста\n",
        "Пятая и последняя строка\"\"\"\n",
        "\n",
        "# Сохраните в файл и продемонстрируйте работу\n",
        "```"
      ]
    },
    {
      "cell_type": "code",
      "execution_count": 34,
      "id": "43bfd6b8",
      "metadata": {
        "id": "43bfd6b8",
        "colab": {
          "base_uri": "https://localhost:8080/"
        },
        "outputId": "c466fdd8-671c-4909-d660-a30fbd72d34c"
      },
      "outputs": [
        {
          "output_type": "stream",
          "name": "stdout",
          "text": [
            "Содержимое исходного файла: \n",
            "Первая строка текста\n",
            "Вторая строка с большим количеством слов\n",
            "Третья строка\n",
            "Четвертая строка для теста\n",
            "Пятая и последняя строка\n",
            "\n",
            "Количество строк: 5\n",
            "Количество слов: 19\n",
            "Количество символов (с пробелами): 127\n",
            "Количество символов (без пробелов): 109\n"
          ]
        }
      ],
      "source": [
        "content = \"\"\"Первая строка текста\n",
        "Вторая строка с большим количеством слов\n",
        "Третья строка\n",
        "Четвертая строка для теста\n",
        "Пятая и последняя строка\"\"\"\n",
        "\n",
        "with open(file=\"output.txt\", mode='w', encoding='utf8') as new_text:\n",
        "    new_text.write(content)\n",
        "\n",
        "def file_statistics(filename):\n",
        "  try:\n",
        "    with open(filename, 'r', encoding='utf-8') as text:\n",
        "      full_content = text.read()\n",
        "      print(f'Содержимое исходного файла: \\n{full_content}\\n')\n",
        "\n",
        "      text.seek(0)\n",
        "      lines = text.readlines()\n",
        "      print(f'Количество строк: {len(lines)}')\n",
        "      word_count = sum(len(i.split()) for i in lines)\n",
        "      print(f'Количество слов: {word_count}')\n",
        "      print(f'Количество символов (с пробелами): {len(full_content)}')\n",
        "      content_no_spaces = full_content.replace(' ', '').replace('\\n', '')\n",
        "      print(f'Количество символов (без пробелов): {len(content_no_spaces)}')\n",
        "\n",
        "  except FileNotFoundError:\n",
        "    print(f\"Файл '{filename}' не найден.\")\n",
        "\n",
        "file_statistics(\"output.txt\")"
      ]
    },
    {
      "cell_type": "markdown",
      "id": "903281dd",
      "metadata": {
        "id": "903281dd"
      },
      "source": [
        "---"
      ]
    },
    {
      "cell_type": "markdown",
      "id": "ad8b4ae4",
      "metadata": {
        "id": "ad8b4ae4"
      },
      "source": [
        "### **Пункт №8. Поиск и замена в файле**"
      ]
    },
    {
      "cell_type": "markdown",
      "id": "e5230d0a",
      "metadata": {
        "id": "e5230d0a"
      },
      "source": [
        "Напишите функцию `replace_in_file(filename, old_text, new_text)`, которая заменяет все вхождения `old_text` на `new_text` в файле и сохраняет результат в новый файл с префиксом \"modified_\".\n",
        "\n",
        "**ОБЯЗАТЕЛЬНО:**\n",
        "- Создайте файл с текстом, содержащим минимум 3 вхождения заменяемого слова\n",
        "- Выведите содержимое файла ДО замены\n",
        "- Выполните замену\n",
        "- Выведите содержимое файла ПОСЛЕ замены\n",
        "- Покажите количество произведенных замен"
      ]
    },
    {
      "cell_type": "code",
      "execution_count": 42,
      "id": "64a05e35",
      "metadata": {
        "id": "64a05e35",
        "colab": {
          "base_uri": "https://localhost:8080/"
        },
        "outputId": "fa3a5769-f0e3-4f08-d946-0fde4919f162"
      },
      "outputs": [
        {
          "output_type": "stream",
          "name": "stdout",
          "text": [
            "Кукуруза мопс курица Матвей крутой мопс коллегия вероятность панцирь мопс акула\n",
            "Кукуруза чихуахуа курица Матвей крутой чихуахуа коллегия вероятность панцирь чихуахуа акула\n",
            "Количество произведённых замен: 3\n"
          ]
        }
      ],
      "source": [
        "d = 'Кукуруза мопс курица Матвей крутой мопс коллегия вероятность панцирь мопс акула'\n",
        "\n",
        "new_text = open(file=\"output.txt\", mode='w', encoding='utf8')\n",
        "new_text.writelines(d)\n",
        "new_text.close()\n",
        "\n",
        "def replace_in_file(filename, old_text, new_text):\n",
        "  c = 0\n",
        "  text = open(file=f\"{filename}\", mode='r', encoding=\"UTF-8\")\n",
        "  container = text.read()\n",
        "  print(container)\n",
        "  text.seek(0)\n",
        "  while old_text in container:\n",
        "    c += 1\n",
        "    container = container.replace(old_text, new_text, 1)\n",
        "  text.close()\n",
        "  text2 = open(file=\"modified_output.txt\", mode='w', encoding='utf8')\n",
        "  text2.writelines(container)\n",
        "  text2.close()\n",
        "  text2 = open(file=\"modified_output.txt\", mode='r', encoding='utf8')\n",
        "  print(text2.read())\n",
        "  print(f'Количество произведённых замен: {c}')\n",
        "\n",
        "replace_in_file(\"output.txt\", 'мопс', 'чихуахуа')\n",
        "\n"
      ]
    },
    {
      "cell_type": "markdown",
      "id": "f77b0568",
      "metadata": {
        "id": "f77b0568"
      },
      "source": [
        "---"
      ]
    },
    {
      "cell_type": "markdown",
      "id": "79a081b1",
      "metadata": {
        "id": "79a081b1"
      },
      "source": [
        "### **Пункт №9. Объединение файлов**"
      ]
    },
    {
      "cell_type": "markdown",
      "id": "599cee3c",
      "metadata": {
        "id": "599cee3c"
      },
      "source": [
        "Создайте функцию `merge_files(file_list, output_file)`, которая объединяет содержимое нескольких текстовых файлов в один, добавляя после каждого разделитель.\n",
        "\n",
        "**ОБЯЗАТЕЛЬНО:**\n",
        "- Создайте минимум 3 файла с разным содержимым\n",
        "- Выведите содержимое КАЖДОГО исходного файла\n",
        "- Выполните объединение\n",
        "- Выведите содержимое результирующего файла"
      ]
    },
    {
      "cell_type": "code",
      "execution_count": 54,
      "id": "581b5868",
      "metadata": {
        "id": "581b5868",
        "colab": {
          "base_uri": "https://localhost:8080/"
        },
        "outputId": "c42e64a5-3e8e-44c8-d739-3a9e0442c288"
      },
      "outputs": [
        {
          "output_type": "stream",
          "name": "stdout",
          "text": [
            "Абракадабра авадакидвара экспиляурмус рудикулуз итакдалее\n",
            "Мопс бульдог шпиц чихуахуа такса\n",
            "Я ты он она вместе целое государство\n",
            "Абракадабра авадакидвара экспиляурмус рудикулуз итакдалее\n",
            "-----------\n",
            "Мопс бульдог шпиц чихуахуа такса\n",
            "-----------\n",
            "Я ты он она вместе целое государство\n"
          ]
        }
      ],
      "source": [
        "text1 = open(file=\"first.txt\", mode='w', encoding='utf8')\n",
        "text1.writelines('Абракадабра авадакидвара экспиляурмус рудикулуз итакдалее')\n",
        "text1.close()\n",
        "\n",
        "text2 = open(file=\"second.txt\", mode='w', encoding='utf8')\n",
        "text2.writelines('Мопс бульдог шпиц чихуахуа такса')\n",
        "text2.close()\n",
        "\n",
        "text3 = open(file=\"third.txt\", mode='w', encoding='utf8')\n",
        "text3.writelines('Я ты он она вместе целое государство')\n",
        "text3.close()\n",
        "\n",
        "def merge_files(file_list, output_file):\n",
        "  new_text1, new_text2, new_text3, = open(file=\"first.txt\", mode='r', encoding='utf8'), open(file=\"second.txt\", mode='r', encoding='utf8'), open(file=\"third.txt\", mode='r', encoding='utf8')\n",
        "  for i in [new_text1, new_text2, new_text3]:\n",
        "    print(i.read())\n",
        "    i.seek(0)\n",
        "  new_text1.seek(0), new_text2.seek(0), new_text3.seek(0)\n",
        "  container1, container2, container3 = new_text1.read(), new_text2.read(), new_text3.read()\n",
        "\n",
        "  merge_text = open(file=f\"{output_file}\", mode='w', encoding='utf8')\n",
        "  union_text = '\\n-----------\\n'.join([container1, container2, container3])\n",
        "  merge_text.writelines(union_text)\n",
        "  merge_text.close()\n",
        "\n",
        "  merge_text = open(file=f\"{output_file}\", mode='r', encoding='utf8')\n",
        "  print(merge_text.read())\n",
        "  merge_text.close()\n",
        "\n",
        "merge_files([text1, text2, text3], \"merge_file.txt\")"
      ]
    },
    {
      "cell_type": "markdown",
      "id": "eb866091",
      "metadata": {
        "id": "eb866091"
      },
      "source": [
        "---"
      ]
    }
  ],
  "metadata": {
    "colab": {
      "provenance": [],
      "include_colab_link": true
    },
    "language_info": {
      "name": "python"
    },
    "kernelspec": {
      "name": "python3",
      "display_name": "Python 3"
    }
  },
  "nbformat": 4,
  "nbformat_minor": 5
}